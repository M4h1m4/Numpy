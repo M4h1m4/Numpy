{
  "nbformat": 4,
  "nbformat_minor": 0,
  "metadata": {
    "colab": {
      "name": "Numpy.ipynb",
      "provenance": [],
      "collapsed_sections": []
    },
    "kernelspec": {
      "name": "python3",
      "display_name": "Python 3"
    },
    "language_info": {
      "name": "python"
    }
  },
  "cells": [
    {
      "cell_type": "code",
      "metadata": {
        "id": "J7pRgls6EYCO"
      },
      "source": [
        "import numpy as np"
      ],
      "execution_count": null,
      "outputs": []
    },
    {
      "cell_type": "markdown",
      "metadata": {
        "id": "wpWJbex2Fe65"
      },
      "source": [
        "Rank of the array is the dimension of the array <br>\n",
        "Shape of the array is a tuple of integers giving the dimensions"
      ]
    },
    {
      "cell_type": "code",
      "metadata": {
        "colab": {
          "base_uri": "https://localhost:8080/"
        },
        "id": "Ffd8MX4RHDE4",
        "outputId": "ffc7d956-2a9d-45b9-ec44-ef164c413adf"
      },
      "source": [
        "a = np.array([1,2,3])\n",
        "print(type(a))\n",
        "print(a.shape)\n",
        "print(a[0],a[1],a[2])\n",
        "a[0]=5\n",
        "a"
      ],
      "execution_count": null,
      "outputs": [
        {
          "output_type": "stream",
          "text": [
            "<class 'numpy.ndarray'>\n",
            "(3,)\n",
            "1 2 3\n"
          ],
          "name": "stdout"
        },
        {
          "output_type": "execute_result",
          "data": {
            "text/plain": [
              "array([5, 2, 3])"
            ]
          },
          "metadata": {
            "tags": []
          },
          "execution_count": 7
        }
      ]
    },
    {
      "cell_type": "markdown",
      "metadata": {
        "id": "t6bSUZmYIMXJ"
      },
      "source": [
        "Shape is given 2,3 as tuple because it is a 2x3 matrix"
      ]
    },
    {
      "cell_type": "code",
      "metadata": {
        "colab": {
          "base_uri": "https://localhost:8080/"
        },
        "id": "_vwndabGINRz",
        "outputId": "b62e0e2f-cac7-4243-c166-345d38640ea0"
      },
      "source": [
        "b=np.array([[1,2,3],[4,5,6]])\n",
        "print(b)\n",
        "print(b.shape)"
      ],
      "execution_count": null,
      "outputs": [
        {
          "output_type": "stream",
          "text": [
            "[[1 2 3]\n",
            " [4 5 6]]\n",
            "(2, 3)\n"
          ],
          "name": "stdout"
        }
      ]
    },
    {
      "cell_type": "markdown",
      "metadata": {
        "id": "zOmjCLbNJIaR"
      },
      "source": [
        "Functions to create Arrays in numpy"
      ]
    },
    {
      "cell_type": "code",
      "metadata": {
        "colab": {
          "base_uri": "https://localhost:8080/"
        },
        "id": "-qO2XV_dJL_f",
        "outputId": "fa13a012-da3a-479f-8161-823730e8e9d4"
      },
      "source": [
        "import numpy as np\n",
        "a=np.zeros((2,2))       #for creating array with zereos and 2x2 array is created . Parameter is a shape\n",
        "print(a)\n",
        "b=np.ones((2,2))        #for all ones . Parameter is a shape\n",
        "print(b)\n",
        "c=np.full((2,2) , 7)    #for constant array . Parameter is hape and the constant \n",
        "print(c)\n",
        "d=np.eye(2)             #for identity matrix parameter is the rank\n",
        "print(d)\n",
        "e=np.random.random((2,2))  #for random values \n",
        "print(e)\n",
        "f=np.random.randint(1,1000,(5,5))     #randint takes start stop and size as parameters and where stop is exclusive\n",
        "print(f)\n",
        "\n",
        "m=np.random.normal(1,10,(4,4))      # first parameter will be mean and 2nd is standard deviation \n",
        "m"
      ],
      "execution_count": null,
      "outputs": [
        {
          "output_type": "stream",
          "text": [
            "[[0. 0.]\n",
            " [0. 0.]]\n",
            "[[1. 1.]\n",
            " [1. 1.]]\n",
            "[[7 7]\n",
            " [7 7]]\n",
            "[[1. 0.]\n",
            " [0. 1.]]\n",
            "[[0.24021659 0.51794426]\n",
            " [0.10711147 0.4265208 ]]\n",
            "[[715  78 229 976 742]\n",
            " [296 628 943 718 506]\n",
            " [458 823 181 207  32]\n",
            " [526 568 600 898  69]\n",
            " [600 395 456 137 265]]\n"
          ],
          "name": "stdout"
        },
        {
          "output_type": "execute_result",
          "data": {
            "text/plain": [
              "array([[-10.14251971,   6.06212939, -24.16530801, -10.683649  ],\n",
              "       [  0.24964817,   2.77557046,  14.76531903,  -1.67095444],\n",
              "       [ -1.74734245,   6.98283292,   5.09340449,  10.85007795],\n",
              "       [-13.788714  , -15.08479352,  11.00887504,  17.81644137]])"
            ]
          },
          "metadata": {
            "tags": []
          },
          "execution_count": 19
        }
      ]
    },
    {
      "cell_type": "code",
      "metadata": {
        "colab": {
          "base_uri": "https://localhost:8080/"
        },
        "id": "Dls9LuMUcZIj",
        "outputId": "f7d70e6c-9624-46a8-b529-4b521dca2b24"
      },
      "source": [
        "import numpy as np\n",
        "x=[1,2,3,4,5]\n",
        "print(np.diag(x))               # makes x which is list as principal diagonal of zero matrix\n",
        "print(np.diag(x,k=1))           #makes x as a diagonal where k is a parameter where this diagonal is placed with respect to principal diagonal\n",
        "print(np.diag(x,k=-1))"
      ],
      "execution_count": null,
      "outputs": [
        {
          "output_type": "stream",
          "text": [
            "[[1 0 0 0 0]\n",
            " [0 2 0 0 0]\n",
            " [0 0 3 0 0]\n",
            " [0 0 0 4 0]\n",
            " [0 0 0 0 5]]\n",
            "[[0 1 0 0 0 0]\n",
            " [0 0 2 0 0 0]\n",
            " [0 0 0 3 0 0]\n",
            " [0 0 0 0 4 0]\n",
            " [0 0 0 0 0 5]\n",
            " [0 0 0 0 0 0]]\n",
            "[[0 0 0 0 0 0]\n",
            " [1 0 0 0 0 0]\n",
            " [0 2 0 0 0 0]\n",
            " [0 0 3 0 0 0]\n",
            " [0 0 0 4 0 0]\n",
            " [0 0 0 0 5 0]]\n"
          ],
          "name": "stdout"
        }
      ]
    },
    {
      "cell_type": "markdown",
      "metadata": {
        "id": "jf59auGaeB3l"
      },
      "source": [
        "arange() : Basically this is just like range function in python which takes start and stop value as well as the step value <br>\n",
        "arange function returns the list only. Stop value is non inclusive\n",
        "\n",
        "linspace(): takes 3 parameters . start, stop,number . Here stop value is inclusive\n",
        "num value basically says how many numbers we wants from start to stop values . The values printed are random. To be more precise the step value will be set by python itself and it is non uniform. The num value is 50 by default.If num is greater than range and we want integer type only we will get repeated numbers"
      ]
    },
    {
      "cell_type": "code",
      "metadata": {
        "colab": {
          "base_uri": "https://localhost:8080/"
        },
        "id": "PCf6gJCddz0D",
        "outputId": "da9230b4-eb27-4711-ac64-3c91c05d31df"
      },
      "source": [
        "import numpy as np\n",
        "\n",
        "print(np.arange(1,10,2) )             \n",
        "\n",
        "print(np.linspace(1,10,5))\n",
        "\n",
        "print(np.linspace(10,40,1))\n",
        "\n",
        "np.linspace(1,8,10,dtype=int)    #gives only int numbers between range"
      ],
      "execution_count": null,
      "outputs": [
        {
          "output_type": "stream",
          "text": [
            "[1 3 5 7 9]\n",
            "[ 1.    3.25  5.5   7.75 10.  ]\n",
            "[10.]\n"
          ],
          "name": "stdout"
        },
        {
          "output_type": "execute_result",
          "data": {
            "text/plain": [
              "array([1, 1, 2, 3, 4, 4, 5, 6, 7, 8])"
            ]
          },
          "metadata": {
            "tags": []
          },
          "execution_count": 10
        }
      ]
    },
    {
      "cell_type": "markdown",
      "metadata": {
        "id": "kfs8hjDGLtIe"
      },
      "source": [
        "vstack() : stacks matrices vertically(on top of each other. No of columns should be equal in the two matrices <br>\n",
        "hstack() :stacks matrices horizontally.No of rows should be equal"
      ]
    },
    {
      "cell_type": "code",
      "metadata": {
        "colab": {
          "base_uri": "https://localhost:8080/"
        },
        "id": "4SiwKeHEggzw",
        "outputId": "014460fb-bf53-4c70-ab06-8ef2ee2e6048"
      },
      "source": [
        "import numpy as np\n",
        "x=np.array([[2,0,0],[0,3,0],[0,0,4]])\n",
        "y=([[1],[1],[1]])\n",
        "np.hstack([x,y])"
      ],
      "execution_count": null,
      "outputs": [
        {
          "output_type": "execute_result",
          "data": {
            "text/plain": [
              "array([[2, 0, 0, 1],\n",
              "       [0, 3, 0, 1],\n",
              "       [0, 0, 4, 1]])"
            ]
          },
          "metadata": {
            "tags": []
          },
          "execution_count": 4
        }
      ]
    },
    {
      "cell_type": "code",
      "metadata": {
        "colab": {
          "base_uri": "https://localhost:8080/"
        },
        "id": "YnYp7n7IjFFO",
        "outputId": "583c495a-a6ca-4b7c-8254-612a1408b123"
      },
      "source": [
        "## same question \n",
        "import numpy as np\n",
        "x=np.diag([2,3,4])\n",
        "y=np.linspace(1,1,3,dtype=int).reshape(3,1)\n",
        "np.hstack([x,y])\n"
      ],
      "execution_count": null,
      "outputs": [
        {
          "output_type": "execute_result",
          "data": {
            "text/plain": [
              "array([[2, 0, 0, 1],\n",
              "       [0, 3, 0, 1],\n",
              "       [0, 0, 4, 1]])"
            ]
          },
          "metadata": {
            "tags": []
          },
          "execution_count": 7
        }
      ]
    },
    {
      "cell_type": "markdown",
      "metadata": {
        "id": "OF8zJBoNwC_U"
      },
      "source": [
        "Insert()"
      ]
    },
    {
      "cell_type": "code",
      "metadata": {
        "colab": {
          "base_uri": "https://localhost:8080/"
        },
        "id": "bqHjvXC4wClI",
        "outputId": "dd83611b-58a4-4538-8779-5b71aab2780a"
      },
      "source": [
        "import numpy as np\n",
        "a = np.array([[1, 1], [2, 2], [3, 3]])\n",
        "print(a)\n",
        "print(np.insert(a, 2, 5, axis=0))           \n",
        "\n",
        "np.insert(a,1,5,axis=1)"
      ],
      "execution_count": null,
      "outputs": [
        {
          "output_type": "stream",
          "text": [
            "[[1 1]\n",
            " [2 2]\n",
            " [3 3]]\n",
            "[[1 1]\n",
            " [2 2]\n",
            " [5 5]\n",
            " [3 3]]\n"
          ],
          "name": "stdout"
        },
        {
          "output_type": "execute_result",
          "data": {
            "text/plain": [
              "array([[1, 5, 1],\n",
              "       [2, 5, 2],\n",
              "       [3, 5, 3]])"
            ]
          },
          "metadata": {
            "tags": []
          },
          "execution_count": 14
        }
      ]
    },
    {
      "cell_type": "markdown",
      "metadata": {
        "id": "1t7o2rnsxdxp"
      },
      "source": [
        "unique( ): gives all the unique elements as the output "
      ]
    },
    {
      "cell_type": "code",
      "metadata": {
        "colab": {
          "base_uri": "https://localhost:8080/"
        },
        "id": "9Jqr6lE5xlge",
        "outputId": "82a57d37-cca1-466b-bea3-c7b4be028ef6"
      },
      "source": [
        "import numpy as np\n",
        "a = np.array([[1, 1], [2, 2], [3, 3]])\n",
        "print(a)\n",
        "np.unique(a)"
      ],
      "execution_count": null,
      "outputs": [
        {
          "output_type": "stream",
          "text": [
            "[[1 1]\n",
            " [2 2]\n",
            " [3 3]]\n"
          ],
          "name": "stdout"
        },
        {
          "output_type": "execute_result",
          "data": {
            "text/plain": [
              "array([1, 2, 3])"
            ]
          },
          "metadata": {
            "tags": []
          },
          "execution_count": 17
        }
      ]
    },
    {
      "cell_type": "markdown",
      "metadata": {
        "id": "kGjAPR6gzEJq"
      },
      "source": [
        "sort( ) : sorts the element according to the axis given<br>\n",
        "default asix is -1 that is the last axis . generally in a 2D matrix axis 1 is last that it arranges it as row"
      ]
    },
    {
      "cell_type": "code",
      "metadata": {
        "colab": {
          "base_uri": "https://localhost:8080/"
        },
        "id": "P9R7_kjCzDl7",
        "outputId": "0bac8850-f5e0-4de2-930b-9fd4f7e50145"
      },
      "source": [
        "import numpy as np\n",
        "a=np.array([[1,3,5],[7,6,5],[63,45,55]])              \n",
        "print(a)\n",
        "np.sort(a)"
      ],
      "execution_count": null,
      "outputs": [
        {
          "output_type": "stream",
          "text": [
            "[[ 1  3  5]\n",
            " [ 7  6  5]\n",
            " [63 45 55]]\n"
          ],
          "name": "stdout"
        },
        {
          "output_type": "execute_result",
          "data": {
            "text/plain": [
              "array([[ 1,  3,  5],\n",
              "       [ 5,  6,  7],\n",
              "       [45, 55, 63]])"
            ]
          },
          "metadata": {
            "tags": []
          },
          "execution_count": 19
        }
      ]
    },
    {
      "cell_type": "markdown",
      "metadata": {
        "id": "6-HbrWqGg9m4"
      },
      "source": [
        "Array Indexing"
      ]
    },
    {
      "cell_type": "code",
      "metadata": {
        "colab": {
          "base_uri": "https://localhost:8080/"
        },
        "id": "wFktY6AiLvmX",
        "outputId": "93048fcd-f3e3-473b-dcdb-1596480bf6e3"
      },
      "source": [
        "import numpy as np \n",
        "a=np.array([[1,2,3,4],[5,6,7,8],[9,10,11,12]])        # shape (3,4)\n",
        "print(a)\n",
        "                                  #Array slicing\n",
        "b=a[:2 , 1:3]                # rows indexing from 0 to 2 where 2 is exclusive so 0th and 1st row are printed\n",
        "print(b)                      #columns from 1 to 3 where 3 is exclusive\n",
        "\n",
        "print(a[0,1])"
      ],
      "execution_count": null,
      "outputs": [
        {
          "output_type": "stream",
          "text": [
            "[[ 1  2  3  4]\n",
            " [ 5  6  7  8]\n",
            " [ 9 10 11 12]]\n",
            "[[2 3]\n",
            " [6 7]]\n",
            "2\n"
          ],
          "name": "stdout"
        }
      ]
    },
    {
      "cell_type": "markdown",
      "metadata": {
        "id": "6fN-KUrqOLMY"
      },
      "source": [
        "Row Accessing"
      ]
    },
    {
      "cell_type": "code",
      "metadata": {
        "colab": {
          "base_uri": "https://localhost:8080/"
        },
        "id": "JX8wPzv0M9PF",
        "outputId": "c6f591b0-b8ab-4b94-8a76-0b70f6761a06"
      },
      "source": [
        "a=np.array([[1,2,3,4],[5,6,7,8],[9,10,11,12]])\n",
        "r_1 = a[1,:]                     #2nd row  rank 1 view . Rank 1 means 1 dimension \n",
        "print(r_1) \n",
        "print(r_1.shape)\n",
        "r_2 = a[1:2,:]\n",
        "print(r_2)          \n",
        "print(r_2.shape)             #2nd row rank 2 view\n",
        "\n"
      ],
      "execution_count": null,
      "outputs": [
        {
          "output_type": "stream",
          "text": [
            "[5 6 7 8]\n",
            "(4,)\n",
            "[[5 6 7 8]]\n",
            "(1, 4)\n"
          ],
          "name": "stdout"
        }
      ]
    },
    {
      "cell_type": "markdown",
      "metadata": {
        "id": "gYPqWlXjOQCj"
      },
      "source": [
        "Column Accessing"
      ]
    },
    {
      "cell_type": "code",
      "metadata": {
        "colab": {
          "base_uri": "https://localhost:8080/"
        },
        "id": "9IleiMEJOTad",
        "outputId": "1b65cf37-0585-4c39-912c-24f0b51c1473"
      },
      "source": [
        "a=np.array([[1,2,3,4],[5,6,7,8],[9,10,11,12]])\n",
        "c_1=a[:,1]\n",
        "print(c_1)\n",
        "print(c_1.shape)\n",
        "c_2=a[:,1:2]\n",
        "print(c_2)\n",
        "print(c_2.shape)"
      ],
      "execution_count": null,
      "outputs": [
        {
          "output_type": "stream",
          "text": [
            "[ 2  6 10]\n",
            "(3,)\n",
            "[[ 2]\n",
            " [ 6]\n",
            " [10]]\n",
            "(3, 1)\n"
          ],
          "name": "stdout"
        }
      ]
    },
    {
      "cell_type": "code",
      "metadata": {
        "colab": {
          "base_uri": "https://localhost:8080/"
        },
        "id": "obW6LWHIO8pg",
        "outputId": "e9f18001-e724-4322-8267-12445b5f7dd7"
      },
      "source": [
        "a=np.array([[1,2],[3,4],[5,6]])\n",
        "print(a)\n",
        "print(a[[0,1,2],[0,1,0]])                                #these both are equivalent \n",
        "print(np.array([a[0,0],a[1,1],a[2,0]]))"
      ],
      "execution_count": null,
      "outputs": [
        {
          "output_type": "stream",
          "text": [
            "[[1 2]\n",
            " [3 4]\n",
            " [5 6]]\n",
            "[1 4 5]\n",
            "[1 4 5]\n"
          ],
          "name": "stdout"
        }
      ]
    },
    {
      "cell_type": "code",
      "metadata": {
        "colab": {
          "base_uri": "https://localhost:8080/"
        },
        "id": "JhGVmYz0ReH3",
        "outputId": "de8104b8-9ac2-4b9a-c727-e088bda1ce88"
      },
      "source": [
        "import numpy as np\n",
        "a=np.array([[1,2,3],[4,5,6],[7,8,9],[10,11,12]])\n",
        "print(a)\n",
        "b=np.array([0,2,0,1])\n",
        "print(a[np.arange(4),b])"
      ],
      "execution_count": null,
      "outputs": [
        {
          "output_type": "stream",
          "text": [
            "[[ 1  2  3]\n",
            " [ 4  5  6]\n",
            " [ 7  8  9]\n",
            " [10 11 12]]\n",
            "[ 1  6  7 11]\n"
          ],
          "name": "stdout"
        }
      ]
    },
    {
      "cell_type": "code",
      "metadata": {
        "colab": {
          "base_uri": "https://localhost:8080/"
        },
        "id": "oDT-YWP_m8wn",
        "outputId": "156183ec-cf30-44f3-9f6a-a210ec6068b2"
      },
      "source": [
        "import numpy as np\n",
        "a=np.array([[1,2,3],[4,5,6],[7,8,9],[10,11,12]])\n",
        "print(a)\n",
        "\n",
        "print(a[2][0:2])\n",
        "print(a[2,0:2])"
      ],
      "execution_count": null,
      "outputs": [
        {
          "output_type": "stream",
          "text": [
            "[[ 1  2  3]\n",
            " [ 4  5  6]\n",
            " [ 7  8  9]\n",
            " [10 11 12]]\n",
            "[7 8]\n",
            "[7 8]\n"
          ],
          "name": "stdout"
        }
      ]
    },
    {
      "cell_type": "markdown",
      "metadata": {
        "id": "iq9PH1mnTrN2"
      },
      "source": [
        "Boolean Indexing"
      ]
    },
    {
      "cell_type": "code",
      "metadata": {
        "colab": {
          "base_uri": "https://localhost:8080/"
        },
        "id": "BBsfjfLmTcUu",
        "outputId": "30c7225c-aa7a-43b9-b7a9-2bd153b8e262"
      },
      "source": [
        "a=np.array([[1,2],[3,4],[5,6]])\n",
        "bool_idx=(a>3)\n",
        "print(bool_idx)\n",
        "          # or\n",
        "print(a[bool_idx])    #gives elements which satisfy condition \n",
        "          # or\n",
        "print(a[a>3])         #gives elements which satisfy condition "
      ],
      "execution_count": null,
      "outputs": [
        {
          "output_type": "stream",
          "text": [
            "[[False False]\n",
            " [False  True]\n",
            " [ True  True]]\n",
            "[4 5 6]\n",
            "[4 5 6]\n"
          ],
          "name": "stdout"
        }
      ]
    },
    {
      "cell_type": "markdown",
      "metadata": {
        "id": "L2FlooQIU7_g"
      },
      "source": [
        "Data types"
      ]
    },
    {
      "cell_type": "code",
      "metadata": {
        "colab": {
          "base_uri": "https://localhost:8080/"
        },
        "id": "4ni6hwiwU-Xn",
        "outputId": "ac8b839b-f631-43ee-b262-bb1f26bae359"
      },
      "source": [
        "x=np.array([1,2])\n",
        "print(x.dtype)                       #dtype is used to know the data type\n",
        "y=np.array([1,2],dtype=np.int64)\n",
        "y.dtype"
      ],
      "execution_count": null,
      "outputs": [
        {
          "output_type": "stream",
          "text": [
            "int64\n"
          ],
          "name": "stdout"
        },
        {
          "output_type": "execute_result",
          "data": {
            "text/plain": [
              "dtype('int64')"
            ]
          },
          "metadata": {
            "tags": []
          },
          "execution_count": 52
        }
      ]
    },
    {
      "cell_type": "markdown",
      "metadata": {
        "id": "_vOvf7c6V4Cw"
      },
      "source": [
        "Array Math"
      ]
    },
    {
      "cell_type": "code",
      "metadata": {
        "colab": {
          "base_uri": "https://localhost:8080/"
        },
        "id": "xQ_OTuYlVtvv",
        "outputId": "f2475fa7-6a3a-4922-feb6-cde70f37ff1e"
      },
      "source": [
        "x=np.array([[1,2],[3,4]],dtype=np.float64)\n",
        "y=np.array([[5,6],[7,8]],dtype=np.float64)\n",
        "print(x)\n",
        "print(y)\n",
        "                  #Addition\n",
        "print(x+y)\n",
        "print(np.add(x,y))\n",
        "                  #Subtraction\n",
        "print(x-y)\n",
        "print(np.subtract(x,y))\n",
        "                  #Product\n",
        "\n",
        "print(x*y)\n",
        "print(np.multiply(x,y))\n",
        "\n",
        "                  #divide\n",
        "print(x/y)\n",
        "print(np.divide(x,y))\n",
        "                  #square root\n",
        "print(np.sqrt(x))\n",
        "\n"
      ],
      "execution_count": null,
      "outputs": [
        {
          "output_type": "stream",
          "text": [
            "[[1. 2.]\n",
            " [3. 4.]]\n",
            "[[5. 6.]\n",
            " [7. 8.]]\n",
            "[[ 6.  8.]\n",
            " [10. 12.]]\n",
            "[[ 6.  8.]\n",
            " [10. 12.]]\n",
            "[[-4. -4.]\n",
            " [-4. -4.]]\n",
            "[[-4. -4.]\n",
            " [-4. -4.]]\n",
            "[[ 5. 12.]\n",
            " [21. 32.]]\n",
            "[[ 5. 12.]\n",
            " [21. 32.]]\n",
            "[[0.2        0.33333333]\n",
            " [0.42857143 0.5       ]]\n",
            "[[0.2        0.33333333]\n",
            " [0.42857143 0.5       ]]\n",
            "[[1.         1.41421356]\n",
            " [1.73205081 2.        ]]\n"
          ],
          "name": "stdout"
        }
      ]
    },
    {
      "cell_type": "markdown",
      "metadata": {
        "id": "-ZkWlSWDYCDG"
      },
      "source": [
        " \" * Gives element wise multiplication \""
      ]
    },
    {
      "cell_type": "markdown",
      "metadata": {
        "id": "RkfSbU99YaNF"
      },
      "source": [
        "Dot Product"
      ]
    },
    {
      "cell_type": "code",
      "metadata": {
        "colab": {
          "base_uri": "https://localhost:8080/"
        },
        "id": "_-NSOyPGYJVN",
        "outputId": "05e0daa3-b678-4b5f-a4c6-55a39b28c02d"
      },
      "source": [
        "x=np.array([[1,2],[3,4]])\n",
        "y=np.array([[5,6],[7,8]])\n",
        "\n",
        "v=np.array([9,10])\n",
        "w=np.array([11,12])\n",
        "\n",
        "print(v.dot(w))\n",
        "print(np.dot(v,w))\n",
        "\n",
        "\n",
        "print(v.dot(x))\n",
        "print(x.dot(v))\n",
        "print(np.dot(v,x))\n",
        "print(np.dot(x,v))"
      ],
      "execution_count": null,
      "outputs": [
        {
          "output_type": "stream",
          "text": [
            "219\n",
            "219\n",
            "[39 58]\n",
            "[29 67]\n",
            "[39 58]\n",
            "[29 67]\n"
          ],
          "name": "stdout"
        }
      ]
    },
    {
      "cell_type": "markdown",
      "metadata": {
        "id": "nIkGQTMzZwjo"
      },
      "source": [
        "Sum"
      ]
    },
    {
      "cell_type": "code",
      "metadata": {
        "colab": {
          "base_uri": "https://localhost:8080/"
        },
        "id": "vhgF4aCPZxow",
        "outputId": "67d285a2-97f3-49e7-cee8-d71c991dcee0"
      },
      "source": [
        "x=np.array([[1,2],[3,4]])\n",
        "print(np.sum(x))              #Matrix sum\n",
        "print(np.sum(x,axis=0))       #Row sum\n",
        "print(np.sum(x,axis=1))       #Column Sum"
      ],
      "execution_count": null,
      "outputs": [
        {
          "output_type": "stream",
          "text": [
            "10\n",
            "[4 6]\n",
            "[3 7]\n"
          ],
          "name": "stdout"
        }
      ]
    },
    {
      "cell_type": "code",
      "metadata": {
        "colab": {
          "base_uri": "https://localhost:8080/"
        },
        "id": "XDnpgyqiaRGg",
        "outputId": "b172248e-748f-4506-eb43-8064f5aad187"
      },
      "source": [
        "x=np.array([[1,2],[3,4]])\n",
        "print(x)\n",
        "print(x.T)                    #Transpose of a matrix"
      ],
      "execution_count": null,
      "outputs": [
        {
          "output_type": "stream",
          "text": [
            "[[1 2]\n",
            " [3 4]]\n",
            "[[1 3]\n",
            " [2 4]]\n"
          ],
          "name": "stdout"
        }
      ]
    },
    {
      "cell_type": "markdown",
      "metadata": {
        "id": "r4ZWw3RBmtz8"
      },
      "source": [
        "Broadcasting:\n",
        "  This help to work arthimetic operations with different shape of arrays\n",
        "  Frequently when we work with small array and large array this will be helpful"
      ]
    },
    {
      "cell_type": "code",
      "metadata": {
        "colab": {
          "base_uri": "https://localhost:8080/"
        },
        "id": "apiPzN64mwqg",
        "outputId": "6384c139-0c1a-45f7-dfac-34ede398f767"
      },
      "source": [
        "x=np.array([[1,2,3],[4,5,6],[7,8,9,],[10,11,12]])\n",
        "v=np.array([1,0,1])             #vector\n",
        "y=np.empty_like(x)              #create an empty matrix with same shape of x\n",
        "\n",
        "\n",
        "#Adding vector v to every row\n",
        "\n",
        "for i in range(4):\n",
        "  y[i,:]=x[i,:] + v\n",
        "print(y)"
      ],
      "execution_count": null,
      "outputs": [
        {
          "output_type": "stream",
          "text": [
            "[[ 2  2  4]\n",
            " [ 5  5  7]\n",
            " [ 8  8 10]\n",
            " [11 11 13]]\n"
          ],
          "name": "stdout"
        }
      ]
    },
    {
      "cell_type": "markdown",
      "metadata": {
        "id": "SxMNhd2Hpj00"
      },
      "source": [
        "If the array is large we can use the following way"
      ]
    },
    {
      "cell_type": "code",
      "metadata": {
        "colab": {
          "base_uri": "https://localhost:8080/"
        },
        "id": "LK1ootPNpi1B",
        "outputId": "a8abb253-eca2-4182-defc-07d4afcdc81d"
      },
      "source": [
        "vv=np.tile(v,(4,1))               #Stack stores 4 copies of vector v\n",
        "print(vv)\n",
        "\n",
        "y = x + vv\n",
        "print(y)"
      ],
      "execution_count": null,
      "outputs": [
        {
          "output_type": "stream",
          "text": [
            "[[1 0 1]\n",
            " [1 0 1]\n",
            " [1 0 1]\n",
            " [1 0 1]]\n",
            "[[ 2  2  4]\n",
            " [ 5  5  7]\n",
            " [ 8  8 10]\n",
            " [11 11 13]]\n"
          ],
          "name": "stdout"
        }
      ]
    },
    {
      "cell_type": "markdown",
      "metadata": {
        "id": "pLlbG942qxCk"
      },
      "source": [
        "Reshaping:\n",
        "This is only possible when an m by n matrix can be turned into x by y matrix when  m*n==x*y"
      ]
    },
    {
      "cell_type": "code",
      "metadata": {
        "colab": {
          "base_uri": "https://localhost:8080/"
        },
        "id": "U7LbPs3HpRRM",
        "outputId": "6b87339c-92a2-4d90-c468-588ce9f836c1"
      },
      "source": [
        "v=np.array([1,2,3])\n",
        "print(v.shape)\n",
        "w=np.array([4,5])\n",
        "print(w.shape)\n",
        "\n",
        "    #So we have to reshape v for performing outer product . v have to be reshape it to a column \n",
        "    #The product is of shape(3,2)\n",
        "\n",
        "print(np.reshape(v,(3,1))*w)\n"
      ],
      "execution_count": null,
      "outputs": [
        {
          "output_type": "stream",
          "text": [
            "(3,)\n",
            "(2,)\n",
            "[[ 4  5]\n",
            " [ 8 10]\n",
            " [12 15]]\n"
          ],
          "name": "stdout"
        }
      ]
    },
    {
      "cell_type": "markdown",
      "metadata": {
        "id": "6Zssg1yOsrKD"
      },
      "source": [
        "Plotting:\n",
        "Used to plot 2D data "
      ]
    },
    {
      "cell_type": "code",
      "metadata": {
        "colab": {
          "base_uri": "https://localhost:8080/",
          "height": 282
        },
        "id": "yYtNEiW_sywS",
        "outputId": "8fae02f3-058c-4dfc-ac49-38212688f521"
      },
      "source": [
        "import matplotlib.pyplot as plt \n",
        "\n",
        "x=np.arange(0,3*np.pi,0.1)\n",
        "y=np.sin(x)\n",
        "plt.plot(x,y)"
      ],
      "execution_count": null,
      "outputs": [
        {
          "output_type": "execute_result",
          "data": {
            "text/plain": [
              "[<matplotlib.lines.Line2D at 0x7f36883468d0>]"
            ]
          },
          "metadata": {
            "tags": []
          },
          "execution_count": 4
        },
        {
          "output_type": "display_data",
          "data": {
            "image/png": "[encoded data removed]",
            "text/plain": [
              "<Figure size 432x288 with 1 Axes>"
            ]
          },
          "metadata": {
            "tags": [],
            "needs_background": "light"
          }
        }
      ]
    },
    {
      "cell_type": "markdown",
      "metadata": {
        "id": "fHqAGjOlOxj8"
      },
      "source": [
        "Subplots"
      ]
    },
    {
      "cell_type": "code",
      "metadata": {
        "colab": {
          "base_uri": "https://localhost:8080/",
          "height": 281
        },
        "id": "RCfKMlIKOz2i",
        "outputId": "365d94ac-cd97-448c-947f-c273bab353df"
      },
      "source": [
        "import matplotlib.pyplot as plt \n",
        "\n",
        "x=np.arange(0,3*np.pi,0.1)\n",
        "y_sin=np.sin(x)\n",
        "y_cos=np.cos(x)\n",
        "\n",
        "plt.subplot(2,1,1)      #plot with height and width 1\n",
        "\n",
        "                        #plot 1\n",
        "plt.plot(x,y_sin)\n",
        "plt.title(\"sin\")\n",
        "\n",
        "\n",
        "#second plot\n",
        "\n",
        "plt.subplot(2,1,2)\n",
        "plt.plot(x,y_cos)\n",
        "plt.title(\"Cosine\")\n",
        "\n",
        "\n",
        "plt.show()"
      ],
      "execution_count": null,
      "outputs": [
        {
          "output_type": "display_data",
          "data": {
            "image/png": "[encoded data removed]",
            "text/plain": [
              "<Figure size 432x288 with 2 Axes>"
            ]
          },
          "metadata": {
            "tags": [],
            "needs_background": "light"
          }
        }
      ]
    }
  ]
}